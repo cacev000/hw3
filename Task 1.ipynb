{
 "cells": [
  {
   "cell_type": "code",
   "execution_count": 12,
   "metadata": {},
   "outputs": [],
   "source": [
    "import pandas as pd\n",
    "import numpy as np\n",
    "\n",
    "#visual libraries\n",
    "import matplotlib.pyplot as plt\n",
    "import seaborn as sns\n",
    "%matplotlib inline\n",
    "\n",
    "#importing Gaussian and KNN models\n",
    "from sklearn.naive_bayes import GaussianNB\n",
    "from sklearn.neighbors import KNeighborsClassifier\n",
    "\n",
    "#importing selection of model and evaluation\n",
    "from sklearn.model_selection import cross_val_score\n",
    "from sklearn.metrics import f1_score\n",
    "from sklearn import metrics\n",
    "from sklearn import preprocessing\n",
    "\n",
    "# Preparing data for Task 1, Question 1\n",
    "#get training and testing csv files\n",
    "train_set = pd.read_csv('./input/training.csv')\n",
    "test_set = pd.read_csv('./input/testing.csv')"
   ]
  },
  {
   "cell_type": "code",
   "execution_count": 13,
   "metadata": {},
   "outputs": [
    {
     "name": "stdout",
     "output_type": "stream",
     "text": [
      "<class 'pandas.core.frame.DataFrame'>\n",
      "RangeIndex: 24 entries, 0 to 23\n",
      "Data columns (total 7 columns):\n",
      " #   Column                         Non-Null Count  Dtype \n",
      "---  ------                         --------------  ----- \n",
      " 0   ID                             24 non-null     int64 \n",
      " 1   Date                           24 non-null     object\n",
      " 2   Opponent                       24 non-null     object\n",
      " 3   Is_Home_or_Away                24 non-null     object\n",
      " 4   Is_Opponent_in_AP25_Preseason  24 non-null     object\n",
      " 5   Media                          24 non-null     object\n",
      " 6   Label                          24 non-null     object\n",
      "dtypes: int64(1), object(6)\n",
      "memory usage: 1.4+ KB\n"
     ]
    }
   ],
   "source": [
    "train_set.info()"
   ]
  },
  {
   "cell_type": "code",
   "execution_count": 14,
   "metadata": {},
   "outputs": [
    {
     "name": "stdout",
     "output_type": "stream",
     "text": [
      "<class 'pandas.core.frame.DataFrame'>\n",
      "RangeIndex: 12 entries, 0 to 11\n",
      "Data columns (total 7 columns):\n",
      " #   Column                         Non-Null Count  Dtype \n",
      "---  ------                         --------------  ----- \n",
      " 0   ID                             12 non-null     int64 \n",
      " 1   Date                           12 non-null     object\n",
      " 2   Opponent                       12 non-null     object\n",
      " 3   Is_Home_or_Away                12 non-null     object\n",
      " 4   Is_Opponent_in_AP25_Preseason  12 non-null     object\n",
      " 5   Media                          12 non-null     object\n",
      " 6   Label                          12 non-null     object\n",
      "dtypes: int64(1), object(6)\n",
      "memory usage: 800.0+ bytes\n"
     ]
    }
   ],
   "source": [
    "test_set.info()"
   ]
  },
  {
   "cell_type": "code",
   "execution_count": 15,
   "metadata": {},
   "outputs": [],
   "source": [
    "#encoding targets\n",
    "encoder = preprocessing.LabelEncoder()\n",
    "\n",
    "#encoding each feature from training\n",
    "train_set[\"opponent\"] = encoder.fit_transform(train[\"Opponent\"])\n",
    "train_set[\"homeOrAway\"] = encoder.fit_transform(train[\"Is_Home_or_Away\"])\n",
    "train_set[\"isAP25\"] = encoder.fit_transform(train[\"Is_Opponent_in_AP25_Preseason\"])\n",
    "train_set[\"media\"] = encoder.fit_transform(train[\"Media\"])\n",
    "train_set[\"label\"] = encoder.fit_transform(train[\"Label\"])\n",
    "\n",
    "#encoding each feature from testing\n",
    "test_set[\"opponent\"] = encoder.fit_transform(test[\"Opponent\"])\n",
    "test_set[\"homeOrAway\"] = encoder.fit_transform(test[\"Is_Home_or_Away\"])\n",
    "test_set[\"isAP25\"] = encoder.fit_transform(test[\"Is_Opponent_in_AP25_Preseason\"])\n",
    "test_set[\"media\"] = encoder.fit_transform(test[\"Media\"])\n",
    "test_set[\"label\"] = encoder.fit_transform(test[\"Label\"])"
   ]
  },
  {
   "cell_type": "code",
   "execution_count": 16,
   "metadata": {},
   "outputs": [
    {
     "data": {
      "text/html": [
       "<div>\n",
       "<style scoped>\n",
       "    .dataframe tbody tr th:only-of-type {\n",
       "        vertical-align: middle;\n",
       "    }\n",
       "\n",
       "    .dataframe tbody tr th {\n",
       "        vertical-align: top;\n",
       "    }\n",
       "\n",
       "    .dataframe thead th {\n",
       "        text-align: right;\n",
       "    }\n",
       "</style>\n",
       "<table border=\"1\" class=\"dataframe\">\n",
       "  <thead>\n",
       "    <tr style=\"text-align: right;\">\n",
       "      <th></th>\n",
       "      <th>ID</th>\n",
       "      <th>Date</th>\n",
       "      <th>Opponent</th>\n",
       "      <th>Is_Home_or_Away</th>\n",
       "      <th>Is_Opponent_in_AP25_Preseason</th>\n",
       "      <th>Media</th>\n",
       "      <th>Label</th>\n",
       "      <th>opponent</th>\n",
       "      <th>homeOrAway</th>\n",
       "      <th>isAP25</th>\n",
       "      <th>media</th>\n",
       "      <th>label</th>\n",
       "    </tr>\n",
       "  </thead>\n",
       "  <tbody>\n",
       "    <tr>\n",
       "      <th>0</th>\n",
       "      <td>1</td>\n",
       "      <td>9/5/2015</td>\n",
       "      <td>Texas</td>\n",
       "      <td>Home</td>\n",
       "      <td>Out</td>\n",
       "      <td>1-NBC</td>\n",
       "      <td>Win</td>\n",
       "      <td>14</td>\n",
       "      <td>1</td>\n",
       "      <td>1</td>\n",
       "      <td>0</td>\n",
       "      <td>1</td>\n",
       "    </tr>\n",
       "    <tr>\n",
       "      <th>1</th>\n",
       "      <td>2</td>\n",
       "      <td>9/12/2015</td>\n",
       "      <td>Virginia</td>\n",
       "      <td>Away</td>\n",
       "      <td>Out</td>\n",
       "      <td>4-ABC</td>\n",
       "      <td>Win</td>\n",
       "      <td>17</td>\n",
       "      <td>0</td>\n",
       "      <td>1</td>\n",
       "      <td>3</td>\n",
       "      <td>1</td>\n",
       "    </tr>\n",
       "    <tr>\n",
       "      <th>2</th>\n",
       "      <td>3</td>\n",
       "      <td>9/19/2015</td>\n",
       "      <td>GeorgiaTech</td>\n",
       "      <td>Home</td>\n",
       "      <td>In</td>\n",
       "      <td>1-NBC</td>\n",
       "      <td>Win</td>\n",
       "      <td>4</td>\n",
       "      <td>1</td>\n",
       "      <td>0</td>\n",
       "      <td>0</td>\n",
       "      <td>1</td>\n",
       "    </tr>\n",
       "    <tr>\n",
       "      <th>3</th>\n",
       "      <td>4</td>\n",
       "      <td>9/26/2015</td>\n",
       "      <td>UMass</td>\n",
       "      <td>Home</td>\n",
       "      <td>Out</td>\n",
       "      <td>1-NBC</td>\n",
       "      <td>Win</td>\n",
       "      <td>15</td>\n",
       "      <td>1</td>\n",
       "      <td>1</td>\n",
       "      <td>0</td>\n",
       "      <td>1</td>\n",
       "    </tr>\n",
       "    <tr>\n",
       "      <th>4</th>\n",
       "      <td>5</td>\n",
       "      <td>10/3/2015</td>\n",
       "      <td>Clemson</td>\n",
       "      <td>Away</td>\n",
       "      <td>In</td>\n",
       "      <td>4-ABC</td>\n",
       "      <td>Lose</td>\n",
       "      <td>2</td>\n",
       "      <td>0</td>\n",
       "      <td>0</td>\n",
       "      <td>3</td>\n",
       "      <td>0</td>\n",
       "    </tr>\n",
       "  </tbody>\n",
       "</table>\n",
       "</div>"
      ],
      "text/plain": [
       "   ID       Date     Opponent Is_Home_or_Away Is_Opponent_in_AP25_Preseason  \\\n",
       "0   1   9/5/2015        Texas            Home                           Out   \n",
       "1   2  9/12/2015     Virginia            Away                           Out   \n",
       "2   3  9/19/2015  GeorgiaTech            Home                            In   \n",
       "3   4  9/26/2015        UMass            Home                           Out   \n",
       "4   5  10/3/2015      Clemson            Away                            In   \n",
       "\n",
       "   Media Label  opponent  homeOrAway  isAP25  media  label  \n",
       "0  1-NBC   Win        14           1       1      0      1  \n",
       "1  4-ABC   Win        17           0       1      3      1  \n",
       "2  1-NBC   Win         4           1       0      0      1  \n",
       "3  1-NBC   Win        15           1       1      0      1  \n",
       "4  4-ABC  Lose         2           0       0      3      0  "
      ]
     },
     "execution_count": 16,
     "metadata": {},
     "output_type": "execute_result"
    }
   ],
   "source": [
    "train_set.head()"
   ]
  },
  {
   "cell_type": "code",
   "execution_count": 19,
   "metadata": {},
   "outputs": [],
   "source": [
    "#dropping the columns we don't need from training set\n",
    "trainX = train_set.drop([\"Opponent\", \"Date\", \"ID\", \"Is_Home_or_Away\", \"Is_Opponent_in_AP25_Preseason\", \"Media\", \"Label\", \"label\"], axis=1)\n",
    "trainY = train_set[\"label\"]"
   ]
  },
  {
   "cell_type": "code",
   "execution_count": 20,
   "metadata": {},
   "outputs": [
    {
     "data": {
      "text/html": [
       "<div>\n",
       "<style scoped>\n",
       "    .dataframe tbody tr th:only-of-type {\n",
       "        vertical-align: middle;\n",
       "    }\n",
       "\n",
       "    .dataframe tbody tr th {\n",
       "        vertical-align: top;\n",
       "    }\n",
       "\n",
       "    .dataframe thead th {\n",
       "        text-align: right;\n",
       "    }\n",
       "</style>\n",
       "<table border=\"1\" class=\"dataframe\">\n",
       "  <thead>\n",
       "    <tr style=\"text-align: right;\">\n",
       "      <th></th>\n",
       "      <th>opponent</th>\n",
       "      <th>homeOrAway</th>\n",
       "      <th>isAP25</th>\n",
       "      <th>media</th>\n",
       "    </tr>\n",
       "  </thead>\n",
       "  <tbody>\n",
       "    <tr>\n",
       "      <th>0</th>\n",
       "      <td>14</td>\n",
       "      <td>1</td>\n",
       "      <td>1</td>\n",
       "      <td>0</td>\n",
       "    </tr>\n",
       "    <tr>\n",
       "      <th>1</th>\n",
       "      <td>17</td>\n",
       "      <td>0</td>\n",
       "      <td>1</td>\n",
       "      <td>3</td>\n",
       "    </tr>\n",
       "    <tr>\n",
       "      <th>2</th>\n",
       "      <td>4</td>\n",
       "      <td>1</td>\n",
       "      <td>0</td>\n",
       "      <td>0</td>\n",
       "    </tr>\n",
       "    <tr>\n",
       "      <th>3</th>\n",
       "      <td>15</td>\n",
       "      <td>1</td>\n",
       "      <td>1</td>\n",
       "      <td>0</td>\n",
       "    </tr>\n",
       "    <tr>\n",
       "      <th>4</th>\n",
       "      <td>2</td>\n",
       "      <td>0</td>\n",
       "      <td>0</td>\n",
       "      <td>3</td>\n",
       "    </tr>\n",
       "  </tbody>\n",
       "</table>\n",
       "</div>"
      ],
      "text/plain": [
       "   opponent  homeOrAway  isAP25  media\n",
       "0        14           1       1      0\n",
       "1        17           0       1      3\n",
       "2         4           1       0      0\n",
       "3        15           1       1      0\n",
       "4         2           0       0      3"
      ]
     },
     "execution_count": 20,
     "metadata": {},
     "output_type": "execute_result"
    }
   ],
   "source": [
    "trainX.head()"
   ]
  },
  {
   "cell_type": "code",
   "execution_count": 21,
   "metadata": {},
   "outputs": [],
   "source": [
    "#dropping the columns we don't need from testing set\n",
    "testX = test_set.drop([\"Opponent\", \"Date\", \"ID\", \"Is_Home_or_Away\", \"Is_Opponent_in_AP25_Preseason\", \"Media\", \"Label\", \"label\"], axis=1)\n",
    "testY = test_set[\"label\"]\n",
    "\n",
    "#combined sets\n",
    "combine = [train_set, test_set]"
   ]
  },
  {
   "cell_type": "code",
   "execution_count": 23,
   "metadata": {},
   "outputs": [
    {
     "name": "stdout",
     "output_type": "stream",
     "text": [
      "Accuracy:  0.8333333333333334\n",
      "Precision:  1.0\n",
      "Recall:  0.7777777777777778\n",
      "F1 Score:  0.8750000000000001\n"
     ]
    }
   ],
   "source": [
    "# Task 1 - Question 1: Calculate Accuracy, Precision, Recall and F1 Score\n",
    "gaussianModel = GaussianNB()\n",
    "gaussianModel.fit(trainX, trainY)\n",
    "predictedY = gaussianModel.predict(testX)\n",
    "\n",
    "\n",
    "print(\"Accuracy: \", metrics.accuracy_score(testY, predictedY))\n",
    "print(\"Precision: \", metrics.precision_score(testY, predictedY))\n",
    "print(\"Recall: \", metrics.recall_score(testY, predictedY))\n",
    "print(\"F1 Score: \", metrics.f1_score(testY, predictedY))"
   ]
  },
  {
   "cell_type": "code",
   "execution_count": 24,
   "metadata": {},
   "outputs": [
    {
     "name": "stdout",
     "output_type": "stream",
     "text": [
      "Accuracy of KNN @5:  0.5833333333333334\n"
     ]
    }
   ],
   "source": [
    "# Finding which KNN has the best accuracy, precision, recal and F1 score\n",
    "# first trial k=5\n",
    "k=5\n",
    "kNN = KNeighborsClassifier(n_neighbors=k)\n",
    "kNN.fit(trainX, trainY)\n",
    "predictedKnnY = kNN.predict(testX)\n",
    "\n",
    "print(\"Accuracy of KNN @5: \", metrics.accuracy_score(testY, predictedKnnY))"
   ]
  },
  {
   "cell_type": "code",
   "execution_count": 35,
   "metadata": {},
   "outputs": [
    {
     "name": "stdout",
     "output_type": "stream",
     "text": [
      "Accuracy of KNN @9:  0.75\n"
     ]
    }
   ],
   "source": [
    "# second trial k=9\n",
    "k=9\n",
    "kNN = KNeighborsClassifier(n_neighbors=k)\n",
    "kNN.fit(trainX, trainY)\n",
    "predictedKnnY9 = kNN.predict(testX)\n",
    "\n",
    "print(\"Accuracy of KNN @9: \", metrics.accuracy_score(testY, predictedKnnY9))"
   ]
  },
  {
   "cell_type": "code",
   "execution_count": 40,
   "metadata": {},
   "outputs": [
    {
     "name": "stdout",
     "output_type": "stream",
     "text": [
      "Accuracy of KNN @10:  0.5833333333333334\n"
     ]
    }
   ],
   "source": [
    "# third trial k=10\n",
    "k=10\n",
    "kNN = KNeighborsClassifier(n_neighbors=k)\n",
    "kNN.fit(trainX, trainY)\n",
    "predictedKnnY = kNN.predict(testX)\n",
    "\n",
    "print(\"Accuracy of KNN @10: \", metrics.accuracy_score(testY, predictedKnnY))"
   ]
  },
  {
   "cell_type": "code",
   "execution_count": 41,
   "metadata": {},
   "outputs": [
    {
     "name": "stdout",
     "output_type": "stream",
     "text": [
      "Accuracy of KNN @7:  0.75\n"
     ]
    }
   ],
   "source": [
    "# fourth trial k=7\n",
    "k=7\n",
    "kNN = KNeighborsClassifier(n_neighbors=k)\n",
    "kNN.fit(trainX, trainY)\n",
    "predictedKnnY7 = kNN.predict(testX)\n",
    "\n",
    "print(\"Accuracy of KNN @7: \", metrics.accuracy_score(testY, predictedKnnY7))"
   ]
  },
  {
   "cell_type": "code",
   "execution_count": 49,
   "metadata": {},
   "outputs": [
    {
     "name": "stdout",
     "output_type": "stream",
     "text": [
      "Least Error:  0.25 @ k =  7\n"
     ]
    },
    {
     "data": {
      "image/png": "[encoded data removed]",
      "text/plain": [
       "<Figure size 864x432 with 1 Axes>"
      ]
     },
     "metadata": {
      "needs_background": "light"
     },
     "output_type": "display_data"
    }
   ],
   "source": [
    "# K=7 & K=9 have the same accuracy.\n",
    "# Need to find out the error rate and best possible value since we have 7 and 9\n",
    "# with same accuracy\n",
    "errorArray = []\n",
    "for i in range (1,12):\n",
    "    kNN = KNeighborsClassifier(n_neighbors=i)\n",
    "    kNN.fit(trainX, trainY)\n",
    "    predictedKnnOfI = kNN.predict(testX)\n",
    "    errorArray.append(np.mean(predictedKnnOfI != testY))\n",
    "    \n",
    "plt.figure(figsize=(12, 6))\n",
    "plt.plot(range(1, 12), errorArray, color='green', linestyle='dashed', marker='o',\n",
    "         markerfacecolor='blue', markersize=10)\n",
    "plt.title('Rate of Error v K Value')\n",
    "plt.xlabel('K Value')\n",
    "plt.ylabel('Rate of Error')\n",
    "print(\"Least Error: \", min(errorArray), \"@ k = \", errorArray.index(min(errorArray))+1)"
   ]
  },
  {
   "cell_type": "code",
   "execution_count": 50,
   "metadata": {},
   "outputs": [
    {
     "name": "stdout",
     "output_type": "stream",
     "text": [
      "Accuracy:  0.75\n",
      "Precision:  0.8\n",
      "Recall:  0.8888888888888888\n",
      "F1 Score:  0.8421052631578948\n"
     ]
    }
   ],
   "source": [
    "# with the Least error possibility been 7.\n",
    "# i calculated accuracy, precision, recall and F1 score with k=7\n",
    "print(\"Accuracy: \", metrics.accuracy_score(testY, predictedKnnY7))\n",
    "print(\"Precision: \", metrics.precision_score(testY, predictedKnnY7))\n",
    "print(\"Recall: \", metrics.recall_score(testY, predictedKnnY7))\n",
    "print(\"F1 Score: \", metrics.f1_score(testY, predictedKnnY7))"
   ]
  },
  {
   "cell_type": "code",
   "execution_count": 51,
   "metadata": {},
   "outputs": [
    {
     "data": {
      "text/plain": [
       "array([1, 0, 1, 1, 1, 0, 0, 1, 1, 0, 1, 0])"
      ]
     },
     "execution_count": 51,
     "metadata": {},
     "output_type": "execute_result"
    }
   ],
   "source": [
    "#Predicted games using Naive Bayes' Gaussian Model\n",
    "predictedY"
   ]
  },
  {
   "cell_type": "code",
   "execution_count": 52,
   "metadata": {},
   "outputs": [
    {
     "data": {
      "text/plain": [
       "array([0, 1, 1, 1, 1, 1, 1, 1, 1, 1, 1, 0])"
      ]
     },
     "execution_count": 52,
     "metadata": {},
     "output_type": "execute_result"
    }
   ],
   "source": [
    "#Predicted games using KNN Model\n",
    "predictedKnnY7"
   ]
  },
  {
   "cell_type": "code",
   "execution_count": null,
   "metadata": {},
   "outputs": [],
   "source": []
  }
 ],
 "metadata": {
  "kernelspec": {
   "display_name": "Python 3",
   "language": "python",
   "name": "python3"
  },
  "language_info": {
   "codemirror_mode": {
    "name": "ipython",
    "version": 3
   },
   "file_extension": ".py",
   "mimetype": "text/x-python",
   "name": "python",
   "nbconvert_exporter": "python",
   "pygments_lexer": "ipython3",
   "version": "3.8.3"
  }
 },
 "nbformat": 4,
 "nbformat_minor": 4
}
