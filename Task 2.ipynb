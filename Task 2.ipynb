{
 "cells": [
  {
   "cell_type": "code",
   "execution_count": 80,
   "metadata": {},
   "outputs": [],
   "source": [
    "import pandas as pd\n",
    "import numpy as np\n",
    "\n",
    "#import Libraries for Graphing\n",
    "import matplotlib.pyplot as plt\n",
    "import seaborn as sns\n",
    "%matplotlib inline\n",
    "\n",
    "from sklearn.model_selection import train_test_split\n",
    "from sklearn.model_selection import cross_validate\n",
    "\n",
    "# Naive Bayes and KNN models\n",
    "from sklearn.naive_bayes import GaussianNB\n",
    "from sklearn.neighbors import KNeighborsClassifier\n",
    "from sklearn import metrics\n",
    "\n",
    "# get Training and Testing sets\n",
    "train_set = pd.read_csv('./input/train.csv')\n",
    "test_set = pd.read_csv('./input/test.csv')\n",
    "\n",
    "combine = [train_set, test_set]\n",
    "\n",
    "# Store our passenger ID for easy access\n",
    "PassengerId = test_set['PassengerId']"
   ]
  },
  {
   "cell_type": "code",
   "execution_count": 81,
   "metadata": {},
   "outputs": [],
   "source": [
    "#drop columns not needed\n",
    "train_set = train_set.drop([\"Ticket\", \"Cabin\"], axis=1)\n",
    "test_set = test_set.drop([\"Ticket\", \"Cabin\"], axis=1)\n",
    "combine = [train_set, test_set]\n",
    "\n",
    "# change sex to binary\n",
    "for dataset in combine:\n",
    "    dataset['Sex'] = dataset['Sex'].map( {'female': 1, 'male': 0} ).astype(int)\n",
    "    \n",
    "train_set.fillna(train_set.median(), inplace=True)\n",
    "test_set.fillna(test_set.median(), inplace=True)\n",
    "\n",
    "#Fill empty/null values for embarked\n",
    "freq_port = train_set.Embarked.dropna().mode()[0]\n",
    "for dataset in combine:\n",
    "    dataset['Embarked'] = dataset['Embarked'].fillna(freq_port)\n",
    "    \n",
    "#fill empty/null values for fare\n",
    "test_set['Fare'].fillna(test_set['Fare'].dropna().median(), inplace=True)    \n",
    "\n",
    "#update combine\n",
    "combine = [train_set, test_set]"
   ]
  },
  {
   "cell_type": "code",
   "execution_count": 82,
   "metadata": {},
   "outputs": [],
   "source": [
    "#change fare to integers so it can be used in model easier\n",
    "for dataset in combine:\n",
    "    dataset.loc[ dataset['Fare'] <= 7.91, 'Fare'] = 0\n",
    "    dataset.loc[(dataset['Fare'] > 7.91) & (dataset['Fare'] <= 14.454), 'Fare'] = 1\n",
    "    dataset.loc[(dataset['Fare'] > 14.454) & (dataset['Fare'] <= 31), 'Fare']   = 2\n",
    "    dataset.loc[ dataset['Fare'] > 31, 'Fare'] = 3\n",
    "    dataset['Fare'] = dataset['Fare'].astype(int)"
   ]
  },
  {
   "cell_type": "code",
   "execution_count": 83,
   "metadata": {},
   "outputs": [],
   "source": [
    "#change embarked to numbers so it can be used in the model\n",
    "for dataset in combine:\n",
    "    dataset['Embarked'] = dataset['Embarked'].map( {'S': 0, 'C': 1, 'Q': 2} ).astype(int)"
   ]
  },
  {
   "cell_type": "code",
   "execution_count": 84,
   "metadata": {},
   "outputs": [],
   "source": [
    "#dropping name and passengerid\n",
    "train_set = train_set.drop(['Name','PassengerId'], axis=1)\n",
    "test_set = test_set.drop(['Name','PassengerId'], axis=1)"
   ]
  },
  {
   "cell_type": "code",
   "execution_count": 85,
   "metadata": {},
   "outputs": [
    {
     "data": {
      "text/html": [
       "<div>\n",
       "<style scoped>\n",
       "    .dataframe tbody tr th:only-of-type {\n",
       "        vertical-align: middle;\n",
       "    }\n",
       "\n",
       "    .dataframe tbody tr th {\n",
       "        vertical-align: top;\n",
       "    }\n",
       "\n",
       "    .dataframe thead th {\n",
       "        text-align: right;\n",
       "    }\n",
       "</style>\n",
       "<table border=\"1\" class=\"dataframe\">\n",
       "  <thead>\n",
       "    <tr style=\"text-align: right;\">\n",
       "      <th></th>\n",
       "      <th>Survived</th>\n",
       "      <th>Pclass</th>\n",
       "      <th>Sex</th>\n",
       "      <th>Age</th>\n",
       "      <th>SibSp</th>\n",
       "      <th>Parch</th>\n",
       "      <th>Fare</th>\n",
       "      <th>Embarked</th>\n",
       "    </tr>\n",
       "  </thead>\n",
       "  <tbody>\n",
       "    <tr>\n",
       "      <th>0</th>\n",
       "      <td>0</td>\n",
       "      <td>3</td>\n",
       "      <td>0</td>\n",
       "      <td>22.0</td>\n",
       "      <td>1</td>\n",
       "      <td>0</td>\n",
       "      <td>0</td>\n",
       "      <td>0</td>\n",
       "    </tr>\n",
       "    <tr>\n",
       "      <th>1</th>\n",
       "      <td>1</td>\n",
       "      <td>1</td>\n",
       "      <td>1</td>\n",
       "      <td>38.0</td>\n",
       "      <td>1</td>\n",
       "      <td>0</td>\n",
       "      <td>3</td>\n",
       "      <td>1</td>\n",
       "    </tr>\n",
       "    <tr>\n",
       "      <th>2</th>\n",
       "      <td>1</td>\n",
       "      <td>3</td>\n",
       "      <td>1</td>\n",
       "      <td>26.0</td>\n",
       "      <td>0</td>\n",
       "      <td>0</td>\n",
       "      <td>1</td>\n",
       "      <td>0</td>\n",
       "    </tr>\n",
       "    <tr>\n",
       "      <th>3</th>\n",
       "      <td>1</td>\n",
       "      <td>1</td>\n",
       "      <td>1</td>\n",
       "      <td>35.0</td>\n",
       "      <td>1</td>\n",
       "      <td>0</td>\n",
       "      <td>3</td>\n",
       "      <td>0</td>\n",
       "    </tr>\n",
       "    <tr>\n",
       "      <th>4</th>\n",
       "      <td>0</td>\n",
       "      <td>3</td>\n",
       "      <td>0</td>\n",
       "      <td>35.0</td>\n",
       "      <td>0</td>\n",
       "      <td>0</td>\n",
       "      <td>1</td>\n",
       "      <td>0</td>\n",
       "    </tr>\n",
       "  </tbody>\n",
       "</table>\n",
       "</div>"
      ],
      "text/plain": [
       "   Survived  Pclass  Sex   Age  SibSp  Parch  Fare  Embarked\n",
       "0         0       3    0  22.0      1      0     0         0\n",
       "1         1       1    1  38.0      1      0     3         1\n",
       "2         1       3    1  26.0      0      0     1         0\n",
       "3         1       1    1  35.0      1      0     3         0\n",
       "4         0       3    0  35.0      0      0     1         0"
      ]
     },
     "execution_count": 85,
     "metadata": {},
     "output_type": "execute_result"
    }
   ],
   "source": [
    "train_set.head()"
   ]
  },
  {
   "cell_type": "code",
   "execution_count": 86,
   "metadata": {},
   "outputs": [],
   "source": [
    "#dropping unnecessary columns\n",
    "trainX = train_set.drop([\"Survived\", \"SibSp\", \"Parch\", \"Embarked\"], axis=1).values\n",
    "trainY = train_set[\"Survived\"].values"
   ]
  },
  {
   "cell_type": "code",
   "execution_count": 88,
   "metadata": {},
   "outputs": [
    {
     "data": {
      "text/plain": [
       "((596, 4), (596,), (295, 4), (295,))"
      ]
     },
     "execution_count": 88,
     "metadata": {},
     "output_type": "execute_result"
    }
   ],
   "source": [
    "trainSplitX, testSplitX, trainSplitY, testSplitY = train_test_split(trainX, trainY, test_size = 0.33, random_state = 45)\n",
    "trainSplitX.shape, trainSplitY.shape, testSplitX.shape, testSplitY.shape"
   ]
  },
  {
   "cell_type": "code",
   "execution_count": 89,
   "metadata": {},
   "outputs": [
    {
     "name": "stdout",
     "output_type": "stream",
     "text": [
      "Accuracy:  0.7932203389830509\n",
      "Precision:  0.6721311475409836\n",
      "Recall:  0.7961165048543689\n",
      "F1 Score:  0.7288888888888888\n"
     ]
    }
   ],
   "source": [
    "#Naive Bayes with Gaussian model\n",
    "gaussianModel = GaussianNB()\n",
    "gaussianModel.fit(trainSplitX, trainSplitY)\n",
    "predictedY = gaussianModel.predict(testSplitX)\n",
    "\n",
    "\n",
    "print(\"Accuracy: \", metrics.accuracy_score(testSplitY, predictedY))\n",
    "print(\"Precision: \", metrics.precision_score(testSplitY, predictedY))\n",
    "print(\"Recall: \", metrics.recall_score(testSplitY, predictedY))\n",
    "print(\"F1 Score: \", metrics.f1_score(testSplitY, predictedY))"
   ]
  },
  {
   "cell_type": "code",
   "execution_count": 90,
   "metadata": {},
   "outputs": [],
   "source": [
    "#use the default 5 fold validation\n",
    "gaussianModel = GaussianNB()\n",
    "gaussianModelCrossValidation = gaussianModel.fit(trainSplitX, trainSplitY)\n",
    "scoreArray=['accuracy', 'precision', 'recall', 'f1']\n",
    "scores = cross_validate(gaussianModelCrossValidation, trainSplitX, trainSplitY, scoring=scoreArray)"
   ]
  },
  {
   "cell_type": "code",
   "execution_count": 91,
   "metadata": {},
   "outputs": [
    {
     "name": "stdout",
     "output_type": "stream",
     "text": [
      "Fit Time:  0.0005002498626708984\n",
      "Score Time:  0.00150146484375\n",
      "Accuracy:  0.7415406162464986\n",
      "Precision:  0.6584089191232048\n",
      "Recall:  0.736790780141844\n",
      "F1 Score:  0.695035595130162\n"
     ]
    }
   ],
   "source": [
    "listOfScores = list(scores.values())\n",
    "result = [] \n",
    "for i in range(len(listOfScores)): \n",
    "   result.append(np.average(listOfScores[i])) \n",
    "\n",
    "def printResult(i, data):\n",
    "    if (i == 0):\n",
    "        print(\"Fit Time: \", data)\n",
    "    elif (i == 1):\n",
    "        print(\"Score Time: \", data)\n",
    "    elif (i == 2):\n",
    "        print(\"Accuracy: \", data)\n",
    "    elif (i == 3):\n",
    "        print(\"Precision: \", data)\n",
    "    elif (i == 4):\n",
    "        print(\"Recall: \", data)\n",
    "    else:\n",
    "        print(\"F1 Score: \", data)\n",
    "\n",
    "#Print results obtained from 5 fold cross validation\n",
    "for i in range(len(result)):\n",
    "    printResult(i, result[i])"
   ]
  },
  {
   "cell_type": "code",
   "execution_count": 106,
   "metadata": {},
   "outputs": [
    {
     "name": "stdout",
     "output_type": "stream",
     "text": [
      "[0.752542372881356, 0.752542372881356, 0.752542372881356, 0.752542372881356, 0.752542372881356, 0.752542372881356, 0.752542372881356, 0.752542372881356, 0.752542372881356, 0.752542372881356, 0.752542372881356, 0.752542372881356, 0.752542372881356, 0.752542372881356]\n"
     ]
    }
   ],
   "source": [
    "#Task 2, Question 1 answer is in the PDF\n",
    "\n",
    "#Task 2, Question 2. Implementation of KNN classification from scratch\n",
    "\n",
    "from scipy.spatial import distance\n",
    "from collections import Counter\n",
    "\n",
    "class myNearestNeighbors():\n",
    "    def setVariables(self, givenTrainX, givenTrainY):\n",
    "        self.trainX = givenTrainX\n",
    "        self.trainY = givenTrainY\n",
    "\n",
    "    def yPrediction(self, givenTestX, k):\n",
    "        predictionArray = []\n",
    "        for row in givenTestX:\n",
    "            label = self.nearestNeighbor(row, k)\n",
    "            predictionArray.append(label)\n",
    "            \n",
    "        return predictionArray\n",
    "\n",
    "    def nearestNeighbor(self, row, k):\n",
    "        distanceArray = []\n",
    "        for i in range(len(self.trainX)):\n",
    "            distanceArray.append((i, distance.euclidean(row, self.trainX[i])))\n",
    "        \n",
    "        distanceArray = sorted(distanceArray, key=lambda x:x[1])[0:k]\n",
    "        \n",
    "        arrayOfKIndex = []\n",
    "        for i in range(k):\n",
    "            arrayOfKIndex.append(distanceArray[i][0])\n",
    "            \n",
    "        arrayOfKLabels = []\n",
    "        for i in range(k):\n",
    "            arrayOfKLabels.append(self.trainY[arrayOfKIndex[i]])\n",
    "            \n",
    "        countArray = Counter(arrayOfKLabels)\n",
    "        \n",
    "        return countArray.most_common()[0][0]\n",
    "    \n",
    "knnModel = myNearestNeighbors()\n",
    "knnModel.setVariables(trainSplitX, trainSplitY)\n",
    "\n",
    "k = 15\n",
    "accuracyArray = []\n",
    "\n",
    "for i in range(1, k):\n",
    "    predictedY = knnModel.yPrediction(testSplitX, k)\n",
    "    accuracyArray.append(metrics.accuracy_score(testSplitY, predictedY))\n",
    "    \n",
    "print(accuracyArray)\n",
    "\n",
    "#I'm getting the same result for all of the k values\n",
    "#the error has to be in my function nearestNeighbot but i'll be using the sklearn KNN for answering\n",
    "#task 2 q3"
   ]
  },
  {
   "cell_type": "code",
   "execution_count": 108,
   "metadata": {},
   "outputs": [
    {
     "name": "stdout",
     "output_type": "stream",
     "text": [
      "Optimal K @ 2 with accuracy of  0.7830508474576271\n"
     ]
    },
    {
     "data": {
      "image/png": "[encoded data removed]",
      "text/plain": [
       "<Figure size 1080x432 with 1 Axes>"
      ]
     },
     "metadata": {
      "needs_background": "light"
     },
     "output_type": "display_data"
    }
   ],
   "source": [
    "#KNN with titanic dataset\n",
    "accuracySet = []\n",
    "for i in range (1,15):\n",
    "    kNN = KNeighborsClassifier(n_neighbors=i)\n",
    "    kNN.fit(trainSplitX, trainSplitY)\n",
    "    predictedKnnOfI = kNN.predict(testSplitX)\n",
    "    accuracySet.append(metrics.accuracy_score(testSplitY, predictedKnnOfI))\n",
    "    \n",
    "plt.figure(figsize=(15, 6))\n",
    "plt.plot(range(1, 15), accuracySet, color='green', linestyle='dashed', marker='o',\n",
    "         markerfacecolor='blue', markersize=10)\n",
    "plt.title('Accuracy v K Value')\n",
    "plt.xlabel('K Value')\n",
    "plt.ylabel('Accuracy')\n",
    "print(\"Optimal K @\", accuracySet.index(max(accuracySet))+1, \"with accuracy of \", max(accuracySet))"
   ]
  },
  {
   "cell_type": "code",
   "execution_count": null,
   "metadata": {},
   "outputs": [],
   "source": [
    "#task 2 Q3 in pdf"
   ]
  }
 ],
 "metadata": {
  "kernelspec": {
   "display_name": "Python 3",
   "language": "python",
   "name": "python3"
  },
  "language_info": {
   "codemirror_mode": {
    "name": "ipython",
    "version": 3
   },
   "file_extension": ".py",
   "mimetype": "text/x-python",
   "name": "python",
   "nbconvert_exporter": "python",
   "pygments_lexer": "ipython3",
   "version": "3.8.3"
  }
 },
 "nbformat": 4,
 "nbformat_minor": 4
}
